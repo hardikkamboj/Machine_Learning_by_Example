{
 "cells": [
  {
   "cell_type": "code",
   "execution_count": 25,
   "metadata": {},
   "outputs": [],
   "source": [
    "from sklearn.feature_extraction import DictVectorizer\n",
    "import numpy as np\n",
    "import matplotlib.pyplot as plt\n",
    "from sklearn.preprocessing import LabelEncoder,OneHotEncoder"
   ]
  },
  {
   "cell_type": "code",
   "execution_count": 1,
   "metadata": {},
   "outputs": [],
   "source": [
    "\n",
    "X_dict = [{'interest': 'tech', 'occupation': 'professional'},\n",
    "          {'interest': 'fashion', 'occupation': 'student'},\n",
    "          {'interest': 'fashion', 'occupation': 'professional'},\n",
    "          {'interest': 'sports', 'occupation': 'student'},\n",
    "          {'interest': 'tech', 'occupation': 'student'},\n",
    "          {'interest': 'tech', 'occupation': 'retired'},\n",
    "          {'interest': 'sports', 'occupation': 'professional'}]"
   ]
  },
  {
   "cell_type": "code",
   "execution_count": 3,
   "metadata": {},
   "outputs": [
    {
     "name": "stdout",
     "output_type": "stream",
     "text": [
      "[[0. 0. 1. 1. 0. 0.]\n",
      " [1. 0. 0. 0. 0. 1.]\n",
      " [1. 0. 0. 1. 0. 0.]\n",
      " [0. 1. 0. 0. 0. 1.]\n",
      " [0. 0. 1. 0. 0. 1.]\n",
      " [0. 0. 1. 0. 1. 0.]\n",
      " [0. 1. 0. 1. 0. 0.]]\n"
     ]
    }
   ],
   "source": [
    "one_hot = DictVectorizer(sparse = False)\n",
    "X_encoded  = one_hot.fit_transform(X_dict)\n",
    "print(X_encoded)"
   ]
  },
  {
   "cell_type": "code",
   "execution_count": 4,
   "metadata": {},
   "outputs": [
    {
     "data": {
      "text/plain": [
       "{'interest=tech': 2,\n",
       " 'occupation=professional': 3,\n",
       " 'interest=fashion': 0,\n",
       " 'occupation=student': 5,\n",
       " 'interest=sports': 1,\n",
       " 'occupation=retired': 4}"
      ]
     },
     "execution_count": 4,
     "metadata": {},
     "output_type": "execute_result"
    }
   ],
   "source": [
    "one_hot.vocabulary_"
   ]
  },
  {
   "cell_type": "code",
   "execution_count": 5,
   "metadata": {},
   "outputs": [
    {
     "data": {
      "text/plain": [
       "[{'interest=tech': 1.0, 'occupation=professional': 1.0},\n",
       " {'interest=fashion': 1.0, 'occupation=student': 1.0},\n",
       " {'interest=fashion': 1.0, 'occupation=professional': 1.0},\n",
       " {'interest=sports': 1.0, 'occupation=student': 1.0},\n",
       " {'interest=tech': 1.0, 'occupation=student': 1.0},\n",
       " {'interest=tech': 1.0, 'occupation=retired': 1.0},\n",
       " {'interest=sports': 1.0, 'occupation=professional': 1.0}]"
      ]
     },
     "execution_count": 5,
     "metadata": {},
     "output_type": "execute_result"
    }
   ],
   "source": [
    "one_hot.inverse_transform(X_encoded)"
   ]
  },
  {
   "cell_type": "code",
   "execution_count": 7,
   "metadata": {},
   "outputs": [],
   "source": [
    "X_str = np.array([['tech', 'professional'],\n",
    "                  ['fashion', 'student'],\n",
    "                  ['fashion', 'professional'],\n",
    "                  ['sports', 'student'],\n",
    "                  ['tech', 'student'],\n",
    "                  ['tech', 'retired'],\n",
    "                  ['sports', 'professional']])"
   ]
  },
  {
   "cell_type": "code",
   "execution_count": 16,
   "metadata": {},
   "outputs": [],
   "source": [
    "le = LabelEncoder()\n",
    "X_le = np.zeros(shape = X_str.shape)\n",
    "for i in range(X_str.shape[1]):\n",
    "    X_le[:,i] = LabelEncoder().fit_transform(X_str[:,i])\n",
    " "
   ]
  },
  {
   "cell_type": "code",
   "execution_count": 17,
   "metadata": {},
   "outputs": [
    {
     "data": {
      "text/plain": [
       "array([[2., 0.],\n",
       "       [0., 2.],\n",
       "       [0., 0.],\n",
       "       [1., 2.],\n",
       "       [2., 2.],\n",
       "       [2., 1.],\n",
       "       [1., 0.]])"
      ]
     },
     "execution_count": 17,
     "metadata": {},
     "output_type": "execute_result"
    }
   ],
   "source": [
    "X_le"
   ]
  },
  {
   "cell_type": "code",
   "execution_count": 21,
   "metadata": {},
   "outputs": [
    {
     "name": "stderr",
     "output_type": "stream",
     "text": [
      "C:\\Users\\Lenovo\\Anaconda3\\lib\\site-packages\\sklearn\\preprocessing\\_encoders.py:415: FutureWarning: The handling of integer data will change in version 0.22. Currently, the categories are determined based on the range [0, max(values)], while in the future they will be determined based on the unique values.\n",
      "If you want the future behaviour and silence this warning, you can specify \"categories='auto'\".\n",
      "In case you used a LabelEncoder before this OneHotEncoder to convert the categories to integers, then you can now use the OneHotEncoder directly.\n",
      "  warnings.warn(msg, FutureWarning)\n"
     ]
    },
    {
     "data": {
      "text/plain": [
       "array([[0., 0., 1., 1., 0., 0.],\n",
       "       [1., 0., 0., 0., 0., 1.],\n",
       "       [1., 0., 0., 1., 0., 0.],\n",
       "       [0., 1., 0., 0., 0., 1.],\n",
       "       [0., 0., 1., 0., 0., 1.],\n",
       "       [0., 0., 1., 0., 1., 0.],\n",
       "       [0., 1., 0., 1., 0., 0.]])"
      ]
     },
     "execution_count": 21,
     "metadata": {},
     "output_type": "execute_result"
    }
   ],
   "source": [
    "#one hot \n",
    "one_hot = OneHotEncoder(sparse = False)\n",
    "X_oh = one_hot.fit_transform(X_le)\n",
    "X_oh"
   ]
  },
  {
   "cell_type": "code",
   "execution_count": 22,
   "metadata": {},
   "outputs": [],
   "source": [
    "#the problems arises when we have new data which has an unseen column, in case of dict vectorizer it is handled, \n",
    "#but not in one hot encoding, hence, we will convert our data into dict type and use dict verctorizer"
   ]
  },
  {
   "cell_type": "code",
   "execution_count": 23,
   "metadata": {},
   "outputs": [],
   "source": [
    "def string_to_dict(columns, data_str):\n",
    "    data_dict = []\n",
    "    for sample_str in data_str:\n",
    "        data_dict.append({column: value for column, value in zip(columns, sample_str)})\n",
    "    return data_dict"
   ]
  },
  {
   "cell_type": "markdown",
   "metadata": {},
   "source": [
    "## Sigmoid"
   ]
  },
  {
   "cell_type": "code",
   "execution_count": 24,
   "metadata": {},
   "outputs": [],
   "source": [
    "def sigmoid(input):\n",
    "    return 1.0 / (1 + np.exp(-input))"
   ]
  },
  {
   "cell_type": "code",
   "execution_count": 31,
   "metadata": {},
   "outputs": [
    {
     "data": {
      "text/plain": [
       "Text(0, 0.5, 'sigmoid(x)')"
      ]
     },
     "execution_count": 31,
     "metadata": {},
     "output_type": "execute_result"
    },
    {
     "data": {
      "image/png": "[encoded data removed]",
      "text/plain": [
       "<Figure size 720x432 with 1 Axes>"
      ]
     },
     "metadata": {
      "needs_background": "light"
     },
     "output_type": "display_data"
    }
   ],
   "source": [
    "plt.figure(figsize = (10,6))\n",
    "x = np.linspace(-8,8,1000)\n",
    "y = sigmoid(x)\n",
    "plt.plot(x,y)\n",
    "plt.axhline(y = 0,ls = 'dotted',color = 'k')\n",
    "plt.axhline(y = 0.5,ls = 'dotted',color = 'k')\n",
    "plt.axhline(y = 1,ls = 'dotted',color = 'k')\n",
    "plt.xlabel('x')\n",
    "plt.ylabel('sigmoid(x)')"
   ]
  },
  {
   "cell_type": "code",
   "execution_count": null,
   "metadata": {},
   "outputs": [],
   "source": []
  }
 ],
 "metadata": {
  "kernelspec": {
   "display_name": "Python 3",
   "language": "python",
   "name": "python3"
  },
  "language_info": {
   "codemirror_mode": {
    "name": "ipython",
    "version": 3
   },
   "file_extension": ".py",
   "mimetype": "text/x-python",
   "name": "python",
   "nbconvert_exporter": "python",
   "pygments_lexer": "ipython3",
   "version": "3.7.3"
  }
 },
 "nbformat": 4,
 "nbformat_minor": 2
}
