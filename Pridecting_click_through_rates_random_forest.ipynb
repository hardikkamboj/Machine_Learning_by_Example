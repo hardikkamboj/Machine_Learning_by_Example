{
 "cells": [
  {
   "cell_type": "code",
   "execution_count": 1,
   "metadata": {},
   "outputs": [
    {
     "name": "stderr",
     "output_type": "stream",
     "text": [
      "C:\\Users\\Lenovo\\Anaconda3\\lib\\importlib\\_bootstrap.py:219: RuntimeWarning: numpy.ufunc size changed, may indicate binary incompatibility. Expected 192 from C header, got 216 from PyObject\n",
      "  return f(*args, **kwds)\n"
     ]
    }
   ],
   "source": [
    "import csv\n",
    "\n",
    "from sklearn.feature_extraction import DictVectorizer\n",
    "from sklearn.model_selection import GridSearchCV\n",
    "from sklearn.ensemble import RandomForestClassifier\n",
    "from sklearn.metrics import roc_auc_score"
   ]
  },
  {
   "cell_type": "code",
   "execution_count": 2,
   "metadata": {},
   "outputs": [],
   "source": [
    "def read_add_click_data(n,offset = 0):\n",
    "    X_dict,y = [],[]\n",
    "    with open(r'E:\\programming\\dataset\\click_throug_predictions\\train\\train.csv','r') as csvfile:\n",
    "        reader = csv.DictReader(csvfile)\n",
    "        for i in range(offset):\n",
    "            next(reader)\n",
    "        i = 0\n",
    "        for row in reader:\n",
    "            i+=1\n",
    "            y.append(row['click'])\n",
    "            del row['click'],row['id'],row['hour'],row['device_id'],row['device_ip']\n",
    "            X_dict.append(dict(row))\n",
    "            if i>=n:\n",
    "                break\n",
    "    return X_dict,y            \n"
   ]
  },
  {
   "cell_type": "code",
   "execution_count": 3,
   "metadata": {},
   "outputs": [
    {
     "name": "stdout",
     "output_type": "stream",
     "text": [
      "19\n"
     ]
    }
   ],
   "source": [
    "n = 10000\n",
    "X_dict_train,y_train = read_add_click_data(n)\n",
    "print(len(X_dict_train[0]))\n",
    "\n",
    "X_dict_test,y_test = read_add_click_data(2000,n)"
   ]
  },
  {
   "cell_type": "code",
   "execution_count": 4,
   "metadata": {},
   "outputs": [
    {
     "data": {
      "text/plain": [
       "2820"
      ]
     },
     "execution_count": 4,
     "metadata": {},
     "output_type": "execute_result"
    }
   ],
   "source": [
    "#one hot encoding\n",
    "dic_vectorizer = DictVectorizer(sparse = False)\n",
    "X_train = dic_vectorizer.fit_transform(X_dict_train)\n",
    "X_test = dic_vectorizer.transform(X_dict_test)\n",
    "len(X_train[0])"
   ]
  },
  {
   "cell_type": "code",
   "execution_count": 5,
   "metadata": {},
   "outputs": [],
   "source": [
    "#the dimension are increased from 19 to 2820"
   ]
  },
  {
   "cell_type": "code",
   "execution_count": 6,
   "metadata": {},
   "outputs": [],
   "source": [
    "paramters = {'max_depth':[3,10,None]}\n",
    "random_forest = RandomForestClassifier(n_estimators=100,criterion = 'gini',min_samples_split=30,n_jobs = -1)\n",
    "\n",
    "grid_search = GridSearchCV(random_forest,paramters,n_jobs = -1,cv = 3,scoring='roc_auc')"
   ]
  },
  {
   "cell_type": "code",
   "execution_count": null,
   "metadata": {},
   "outputs": [],
   "source": [
    "grid_search.fit(X_train,y_train)"
   ]
  },
  {
   "cell_type": "code",
   "execution_count": null,
   "metadata": {},
   "outputs": [],
   "source": [
    "grid_search.best_params_"
   ]
  },
  {
   "cell_type": "code",
   "execution_count": null,
   "metadata": {},
   "outputs": [],
   "source": [
    "best_random_forest = grid_search.best_estimator_\n",
    "prob = best_random_forest.predict_proba(X_test)[:,1]\n",
    "print('roc_auc score is {}'.format(roc_auc_score(y_test,prob))"
   ]
  }
 ],
 "metadata": {
  "kernelspec": {
   "display_name": "Python 3",
   "language": "python",
   "name": "python3"
  },
  "language_info": {
   "codemirror_mode": {
    "name": "ipython",
    "version": 3
   },
   "file_extension": ".py",
   "mimetype": "text/x-python",
   "name": "python",
   "nbconvert_exporter": "python",
   "pygments_lexer": "ipython3",
   "version": "3.7.3"
  }
 },
 "nbformat": 4,
 "nbformat_minor": 2
}
