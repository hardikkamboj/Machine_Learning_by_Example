{
 "cells": [
  {
   "cell_type": "code",
   "execution_count": 92,
   "metadata": {},
   "outputs": [],
   "source": [
    "import numpy as np\n",
    "from sklearn.tree import DecisionTreeClassifier"
   ]
  },
  {
   "cell_type": "markdown",
   "metadata": {},
   "source": [
    "## Importing the functions to calculate the metrices for splitting"
   ]
  },
  {
   "cell_type": "code",
   "execution_count": 2,
   "metadata": {},
   "outputs": [],
   "source": [
    "def gini_impurity(labels):\n",
    "    #when the set is empty it is pure\n",
    "    if labels.size == 0:\n",
    "        return 0\n",
    "    counts = np.unique(labels,return_counts=True)[1]\n",
    "    fractions = counts / float(len(labels))\n",
    "    return 1 - np.sum(fractions**2)\n",
    "    "
   ]
  },
  {
   "cell_type": "code",
   "execution_count": 3,
   "metadata": {},
   "outputs": [],
   "source": [
    "def entropy(labels):\n",
    "    # When the set is empty, it is also pure\n",
    "    if labels.size == 0:\n",
    "        return 0\n",
    "    counts = np.unique(labels, return_counts=True)[1]\n",
    "    fractions = counts / float(len(labels))\n",
    "    return - np.sum(fractions * np.log2(fractions))"
   ]
  },
  {
   "cell_type": "code",
   "execution_count": 4,
   "metadata": {},
   "outputs": [],
   "source": [
    "criterion_function = {'gini': gini_impurity, 'entropy': entropy}\n",
    "def weighted_impurity(groups, criterion='gini'):\n",
    "    \"\"\" Calculate weighted impurity of children after a split\n",
    "    Args:\n",
    "        groups (list of children, and a child consists a list of class labels)\n",
    "        criterion (metric to measure the quality of a split, 'gini' for Gini Impurity or 'entropy' for Information Gain)\n",
    "    Returns:\n",
    "        float, weighted impurity\n",
    "    \"\"\"\n",
    "    total = sum(len(group) for group in groups)\n",
    "    weighted_sum = 0.0\n",
    "    for group in groups:\n",
    "        weighted_sum += len(group) / float(total) * criterion_function[criterion](group)\n",
    "    return weighted_sum\n"
   ]
  },
  {
   "cell_type": "code",
   "execution_count": 79,
   "metadata": {},
   "outputs": [],
   "source": [
    "def split_node(X,y,index,value):\n",
    "    \"\"\"\n",
    "    Args - \n",
    "      X - nparray(features)\n",
    "      Y - ndarray(labels)\n",
    "      index - index of the col used to split\n",
    "      value - value of feature in the feature column used for splitting\n",
    "      \n",
    "    Returns - \n",
    "    left,right - List of list, each list is in form of [X,Y], representing\n",
    "                  left and right child after splitting\n",
    "    \"\"\"\n",
    "    X_index = X[:,index]\n",
    "    if X[0,index].dtype.kind in ['i','f']:\n",
    "        mask = X_index >= value\n",
    "    else:\n",
    "        mask = X_index == value   \n",
    "    #split into left and right child\n",
    "    left = [np.array(X[~mask]),np.array(y[~mask])]\n",
    "    right = [np.array(X[mask]),np.array(y[mask])]\n",
    "    return left,right"
   ]
  },
  {
   "cell_type": "code",
   "execution_count": 15,
   "metadata": {},
   "outputs": [],
   "source": [
    "def get_best_split(X,y,criterion = 'gini'):\n",
    "    \"\"\"\n",
    "    ARGS - \n",
    "      X - ndarray(features)\n",
    "      Y - ndarray(labels)\n",
    "      criterion - 'gini' or 'entropy'\n",
    "    Returns - \n",
    "      dict {'index':___,'value':_____,'children':_____}\n",
    "           where - dict['children'][0] = left_child\n",
    "                   dict['children'][1] = right_child]\n",
    "    \"\"\"\n",
    "    best_index,best_value,best_score,children = None,None,1,None\n",
    "    for index in range(X_train.shape[1]):\n",
    "        for value in np.unique(X[:,index]):\n",
    "            groups = split_node(X,y,index,value)\n",
    "            score = weighted_impurity([groups[0][1],groups[1][1]])\n",
    "            if score < best_score:\n",
    "                best_index,best_value,best_score,children = index,value,score,groups\n",
    "    return {'index':best_index,'value':best_value,'children':children}            \n",
    "            \n",
    "        "
   ]
  },
  {
   "cell_type": "code",
   "execution_count": 16,
   "metadata": {},
   "outputs": [],
   "source": [
    "def get_leaf(labels):\n",
    "    #the value of the leaf is majority of the labels\n",
    "    return np.bincount(labels).argmax()"
   ]
  },
  {
   "cell_type": "code",
   "execution_count": 84,
   "metadata": {},
   "outputs": [],
   "source": [
    "def split(node,max_depth,min_size,depth,criterion):\n",
    "    \"\"\"\n",
    "    AGRS - \n",
    "       node - (dict with children info)\n",
    "       max_depth - int - max depth of the tree\n",
    "       min_size - int - min size required for splitting\n",
    "       depth - int - current depth\n",
    "       criterion - 'gini' or 'entropy'\n",
    "    \"\"\"\n",
    "    left,right = node['children']\n",
    "    del(node['children'])\n",
    "    \n",
    "#    #for debugging\n",
    "#     print('Max Depth - {}, Min size - {}, Current deplt - {}'.format(max_depth,min_size,depth))\n",
    "#     print('type of node - ',type(node))\n",
    "#     print('type of child - ',type(left))\n",
    "#     print(left[1].size)\n",
    "\n",
    "    #first_stopping condition\n",
    "    if left[1].size == 0:\n",
    "        node['right'] = get_leaf(right[1])\n",
    "        return\n",
    "    \n",
    "    if right[1].size == 0:\n",
    "        node['left'] = get_leaf(left[1])\n",
    "        return \n",
    "    \n",
    "    #second stoppoing condition\n",
    "    #check if the current depth is greater than max depth\n",
    "    if depth >= max_depth:\n",
    "        node['left'],node['right'] = get_leaf(left[1]),get_leaf(right[1])\n",
    "        return\n",
    "    \n",
    "    #left child\n",
    "    \n",
    "    #stopping condition\n",
    "    if left[1].size <= min_size:\n",
    "        node['left'] = get_leaf(left[1])\n",
    "        \n",
    "    else:\n",
    "        result = get_best_split(left[0],left[1],criterion)\n",
    "        result_left,result_right = result['children']\n",
    "        if result_left[1].size == 0:\n",
    "            node['left'] = get_leaf(result_right[1])\n",
    "        elif result_right[1].size == 0:\n",
    "            node['left'] = get_leaf(result_left[1])\n",
    "        else:\n",
    "            node['left'] = result\n",
    "            split(node['left'],max_depth,min_size,depth+1,criterion)\n",
    "            \n",
    "    #right node\n",
    "    \n",
    "    #stopping criterion\n",
    "    if right[1].size <= min_size:\n",
    "        node['right'] = get_leaf(right[1])\n",
    "        \n",
    "    else:\n",
    "        result = get_best_split(right[0],right[1],criterion)\n",
    "        result_left,result_right = result['children']\n",
    "        if result_left[1].size == 0:\n",
    "            node['right'] = get_leaf(result_right[1])\n",
    "        elif result_right[1].size == 1:\n",
    "            node['right'] = get_leaf(result_left[1])\n",
    "        else:\n",
    "            node['right'] = result\n",
    "            split(node['right'],max_depth,min_size,depth+1,criterion)\n",
    "            \n",
    "        \n",
    "        "
   ]
  },
  {
   "cell_type": "code",
   "execution_count": 81,
   "metadata": {},
   "outputs": [],
   "source": [
    "CONDITION = {'numerical': {'yes': '>=', 'no': '<'},\n",
    "             'categorical': {'yes': 'is', 'no': 'is not'}}\n",
    "def visualize_tree(node, depth=0):\n",
    "    if isinstance(node, dict):\n",
    "        if node['value'].dtype.kind in ['i', 'f']:\n",
    "            condition = CONDITION['numerical']\n",
    "        else:\n",
    "            condition = CONDITION['categorical']\n",
    "        print('{}|- X{} {} {}'.format(depth * '  ', node['index'] + 1, condition['no'], node['value']))\n",
    "        if 'left' in node:\n",
    "            visualize_tree(node['left'], depth + 1)\n",
    "        print('{}|- X{} {} {}'.format(depth * '  ', node['index'] + 1, condition['yes'], node['value']))\n",
    "        if 'right' in node:\n",
    "            visualize_tree(node['right'], depth + 1)\n",
    "    else:\n",
    "        print('{}[{}]'.format(depth * '  ', node))\n"
   ]
  },
  {
   "cell_type": "code",
   "execution_count": 86,
   "metadata": {},
   "outputs": [],
   "source": [
    "def train_tree(X_train,y_train,max_depth,min_size,criterion):\n",
    "    \"\"\"\n",
    "    Contructs a tree\n",
    "    Agrs - \n",
    "      X_train,y_train - list - (features,labels)\n",
    "      max_depth - max_depth of the decision tree\n",
    "      min_size - min_size of the tree\n",
    "      criterion - 'gini' or 'entropy'\n",
    "    Returns - \n",
    "      Root - Root node of the tree\n",
    "      \"\"\"\n",
    "    X_train = np.array(X_train)\n",
    "    y_train = np.array(y_train)\n",
    "    root = get_best_split(X_train,y_train,criterion)\n",
    "    split(root,max_depth,min_size,1,criterion)\n",
    "    return root"
   ]
  },
  {
   "cell_type": "code",
   "execution_count": 82,
   "metadata": {},
   "outputs": [],
   "source": [
    "\n",
    "X_train = np.array([['tech', 'professional'],\n",
    "           ['fashion', 'student'],\n",
    "           ['fashion', 'professional'],\n",
    "           ['sports', 'student'],\n",
    "           ['tech', 'student'],\n",
    "           ['tech', 'retired'],\n",
    "           ['sports', 'professional']])\n",
    "\n",
    "y_train = np.array([1,\n",
    "           0,\n",
    "           0,\n",
    "           0,\n",
    "           1,\n",
    "           0,\n",
    "           1])\n"
   ]
  },
  {
   "cell_type": "code",
   "execution_count": 88,
   "metadata": {},
   "outputs": [
    {
     "name": "stdout",
     "output_type": "stream",
     "text": [
      "|- X1 is not fashion\n",
      "  |- X2 is not professional\n",
      "    [0]\n",
      "  |- X2 is professional\n",
      "    [1]\n",
      "|- X1 is fashion\n",
      "  [0]\n"
     ]
    }
   ],
   "source": [
    "tree = train_tree(X_train, y_train, 2, 2,'gini')\n",
    "visualize_tree(tree)"
   ]
  },
  {
   "cell_type": "code",
   "execution_count": 89,
   "metadata": {},
   "outputs": [],
   "source": [
    "\n",
    "X_train_n = [[6, 7],\n",
    "           [2, 4],\n",
    "           [7, 2],\n",
    "           [3, 6],\n",
    "           [4, 7],\n",
    "           [5, 2],\n",
    "           [1, 6],\n",
    "           [2, 0],\n",
    "           [6, 3],\n",
    "           [4, 1]]\n",
    "\n",
    "y_train_n = [0,\n",
    "           0,\n",
    "           0,\n",
    "           0,\n",
    "           0,\n",
    "           1,\n",
    "           1,\n",
    "           1,\n",
    "           1,\n",
    "           1]"
   ]
  },
  {
   "cell_type": "code",
   "execution_count": 91,
   "metadata": {},
   "outputs": [
    {
     "name": "stdout",
     "output_type": "stream",
     "text": [
      "|- X2 < 4\n",
      "  |- X1 < 7\n",
      "    [1]\n",
      "  |- X1 >= 7\n",
      "    [0]\n",
      "|- X2 >= 4\n",
      "  |- X1 < 2\n",
      "    [1]\n",
      "  |- X1 >= 2\n",
      "    [0]\n"
     ]
    }
   ],
   "source": [
    "tree = train_tree(X_train_n, y_train_n, 2, 2,'gini')\n",
    "visualize_tree(tree)"
   ]
  },
  {
   "cell_type": "markdown",
   "metadata": {},
   "source": [
    "## Using built in tree from sklearn"
   ]
  },
  {
   "cell_type": "code",
   "execution_count": 93,
   "metadata": {},
   "outputs": [
    {
     "data": {
      "text/plain": [
       "DecisionTreeClassifier(class_weight=None, criterion='gini', max_depth=2,\n",
       "                       max_features=None, max_leaf_nodes=None,\n",
       "                       min_impurity_decrease=0.0, min_impurity_split=None,\n",
       "                       min_samples_leaf=1, min_samples_split=2,\n",
       "                       min_weight_fraction_leaf=0.0, presort=False,\n",
       "                       random_state=None, splitter='best')"
      ]
     },
     "execution_count": 93,
     "metadata": {},
     "output_type": "execute_result"
    }
   ],
   "source": [
    " tree = DecisionTreeClassifier(criterion='gini',max_depth=2,min_samples_split=2)\n",
    "tree.fit(X_train_n,y_train_n)"
   ]
  },
  {
   "cell_type": "code",
   "execution_count": 94,
   "metadata": {},
   "outputs": [
    {
     "data": {
      "text/plain": [
       "array([0, 0, 0, 0, 0, 1, 1, 1, 1, 1])"
      ]
     },
     "execution_count": 94,
     "metadata": {},
     "output_type": "execute_result"
    }
   ],
   "source": [
    "tree.predict(X_train_n)"
   ]
  },
  {
   "cell_type": "code",
   "execution_count": 96,
   "metadata": {},
   "outputs": [],
   "source": [
    "from sklearn.tree import export_graphviz\n",
    "export_graphviz(tree, out_file='tree.dot', feature_names=['X1', 'X2'], impurity=False, filled=True, class_names=['0', '1'])"
   ]
  },
  {
   "cell_type": "code",
   "execution_count": null,
   "metadata": {},
   "outputs": [],
   "source": []
  }
 ],
 "metadata": {
  "kernelspec": {
   "display_name": "Python 3",
   "language": "python",
   "name": "python3"
  },
  "language_info": {
   "codemirror_mode": {
    "name": "ipython",
    "version": 3
   },
   "file_extension": ".py",
   "mimetype": "text/x-python",
   "name": "python",
   "nbconvert_exporter": "python",
   "pygments_lexer": "ipython3",
   "version": "3.7.3"
  }
 },
 "nbformat": 4,
 "nbformat_minor": 2
}
