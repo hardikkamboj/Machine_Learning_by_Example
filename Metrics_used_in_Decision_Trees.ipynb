{
 "cells": [
  {
   "cell_type": "code",
   "execution_count": 1,
   "metadata": {},
   "outputs": [],
   "source": [
    "#we will look into the two metrices that will be used in decision_trees"
   ]
  },
  {
   "cell_type": "code",
   "execution_count": 2,
   "metadata": {},
   "outputs": [],
   "source": [
    "import numpy as np\n",
    "import matplotlib.pyplot as plt"
   ]
  },
  {
   "cell_type": "markdown",
   "metadata": {},
   "source": [
    "## Gini Impurity"
   ]
  },
  {
   "cell_type": "markdown",
   "metadata": {},
   "source": [
    "#### For a dataset having k labels, and labels from class k takes up fk feaction of the dataset, then gini impurity is given by - \n",
    "#### gini_impurity = 1 - sum(fk**2 for all k)\n",
    "#### The lower, the better"
   ]
  },
  {
   "cell_type": "code",
   "execution_count": 4,
   "metadata": {},
   "outputs": [],
   "source": [
    "pos_fraction = np.linspace(0,1,1000)"
   ]
  },
  {
   "cell_type": "code",
   "execution_count": 8,
   "metadata": {},
   "outputs": [
    {
     "data": {
      "text/plain": [
       "Text(0, 0.5, 'Gini Impurity')"
      ]
     },
     "execution_count": 8,
     "metadata": {},
     "output_type": "execute_result"
    },
    {
     "data": {
      "image/png": "[encoded data removed]",
      "text/plain": [
       "<Figure size 432x288 with 1 Axes>"
      ]
     },
     "metadata": {
      "needs_background": "light"
     },
     "output_type": "display_data"
    }
   ],
   "source": [
    "##ploting gini impurity versus \n",
    "gini_impurity = 1 - pos_fraction**2 - (1 - pos_fraction)**2 #since there are only two classes, one positive, and other negative\n",
    "plt.plot(pos_fraction,gini_impurity)\n",
    "plt.ylim(0,1)\n",
    "plt.xlabel('Positive fraction')\n",
    "plt.ylabel('Gini Impurity')"
   ]
  },
  {
   "cell_type": "code",
   "execution_count": 13,
   "metadata": {},
   "outputs": [],
   "source": [
    "def Gini_impurity(labels):\n",
    "    #when the set is empty it is pure\n",
    "    if not labels:\n",
    "        return 0\n",
    "    counts = np.unique(labels,return_counts=True)[1]\n",
    "    fractions = counts / float(len(labels))\n",
    "    return 1 - np.sum(fractions**2)\n",
    "    "
   ]
  },
  {
   "cell_type": "code",
   "execution_count": 16,
   "metadata": {},
   "outputs": [
    {
     "name": "stdout",
     "output_type": "stream",
     "text": [
      "0.0\n",
      "0.5\n",
      "0.31999999999999984\n",
      "0.31999999999999984\n"
     ]
    }
   ],
   "source": [
    "print(Gini_impurity([1,1,1,1,1,]))\n",
    "print(Gini_impurity([1,1,1,1,0,0,0,0]))\n",
    "print(Gini_impurity([1,1,1,1,0]))\n",
    "print(Gini_impurity([1,0,0,0,0]))\n"
   ]
  },
  {
   "cell_type": "code",
   "execution_count": 17,
   "metadata": {},
   "outputs": [],
   "source": [
    "#in case of splitting, we coose the split after which the gini impurity is minimum"
   ]
  },
  {
   "cell_type": "markdown",
   "metadata": {},
   "source": [
    "## Entropy and Information Gain"
   ]
  },
  {
   "cell_type": "markdown",
   "metadata": {},
   "source": [
    "#### For a dataset having k labels, and labels from class k takes up fk feaction of the dataset, then entropy is given by - \n",
    "#### entropy = - sum(fk*log(fk))"
   ]
  },
  {
   "cell_type": "code",
   "execution_count": 21,
   "metadata": {},
   "outputs": [
    {
     "name": "stderr",
     "output_type": "stream",
     "text": [
      "C:\\Users\\Lenovo\\Anaconda3\\lib\\site-packages\\ipykernel_launcher.py:2: RuntimeWarning: divide by zero encountered in log2\n",
      "  \n",
      "C:\\Users\\Lenovo\\Anaconda3\\lib\\site-packages\\ipykernel_launcher.py:2: RuntimeWarning: invalid value encountered in multiply\n",
      "  \n"
     ]
    },
    {
     "data": {
      "text/plain": [
       "Text(0, 0.5, 'Entropy')"
      ]
     },
     "execution_count": 21,
     "metadata": {},
     "output_type": "execute_result"
    },
    {
     "data": {
      "image/png": "[encoded data removed]",
      "text/plain": [
       "<Figure size 432x288 with 1 Axes>"
      ]
     },
     "metadata": {
      "needs_background": "light"
     },
     "output_type": "display_data"
    }
   ],
   "source": [
    "##ploting gini impurity versus \n",
    "entropy =  -( pos_fraction*np.log2(pos_fraction) + (1 - pos_fraction)*(np.log2(1 - pos_fraction)) ) \n",
    "#since there are only two classes, one positive, and other negative\n",
    "plt.plot(pos_fraction,entropy)\n",
    "plt.ylim(0,1)\n",
    "plt.xlabel('Positive fraction')\n",
    "plt.ylabel('Entropy')"
   ]
  },
  {
   "cell_type": "code",
   "execution_count": 23,
   "metadata": {},
   "outputs": [],
   "source": [
    "def entropy(labels):\n",
    "    if not labels:\n",
    "        return 0\n",
    "    fractions = np.unique(labels,return_counts=True)[1] / float(len(labels))\n",
    "    return -1*np.sum(fractions*np.log2(fractions))"
   ]
  },
  {
   "cell_type": "code",
   "execution_count": 24,
   "metadata": {},
   "outputs": [
    {
     "name": "stdout",
     "output_type": "stream",
     "text": [
      "-0.0\n",
      "1.0\n",
      "0.7219280948873623\n",
      "0.7219280948873623\n"
     ]
    }
   ],
   "source": [
    "print(entropy([1,1,1,1,1,]))\n",
    "print(entropy([1,1,1,1,0,0,0,0]))\n",
    "print(entropy([1,1,1,1,0]))\n",
    "print(entropy([1,0,0,0,0]))\n"
   ]
  },
  {
   "cell_type": "markdown",
   "metadata": {},
   "source": [
    "### Information gain"
   ]
  },
  {
   "cell_type": "markdown",
   "metadata": {},
   "source": [
    "#### Informtiion_gain = Entropy(before) - Entropy(after\n",
    "#### We will select the feature, which has maximum information split after spliiting "
   ]
  },
  {
   "cell_type": "code",
   "execution_count": 25,
   "metadata": {},
   "outputs": [],
   "source": [
    "# We can choose either of the two metrics, they both have almost equal effect"
   ]
  },
  {
   "cell_type": "code",
   "execution_count": 28,
   "metadata": {},
   "outputs": [],
   "source": [
    "criterion_function = { 'gini':gini_impurity,\n",
    "                     'entropy':entropy}\n",
    "\n",
    "def weighted_impurity(groups,criterion = 'gini'):\n",
    "    \"\"\"\n",
    "    Args - \n",
    "      groupts - (list of list) decribing the child class\n",
    "      criterion - string('entropy' or 'criterion')\n",
    "    Returns - \n",
    "       weighted_impurity - float\n",
    "    \"\"\"\n",
    "    total_sum = sum(len(group) for group in groups)\n",
    "    weighted_sum = 0.0\n",
    "    for group in groups:\n",
    "        weighted_sum += (len(group) / total_sum)*criterion_function[criterion](group)\n",
    "    return weighted_sum    "
   ]
  },
  {
   "cell_type": "code",
   "execution_count": 29,
   "metadata": {},
   "outputs": [
    {
     "name": "stdout",
     "output_type": "stream",
     "text": [
      "Entropy of #1 split: 0.9510\n",
      "Entropy of #2 split: 0.5510\n"
     ]
    }
   ],
   "source": [
    "children_1 = [[1, 0, 1], [0, 1]]\n",
    "children_2 = [[1, 1], [0, 0, 1]]\n",
    "print('Entropy of #1 split: {0:.4f}'.format(weighted_impurity(children_1, 'entropy')))\n",
    "print('Entropy of #2 split: {0:.4f}'.format(weighted_impurity(children_2, 'entropy')))"
   ]
  },
  {
   "cell_type": "code",
   "execution_count": null,
   "metadata": {},
   "outputs": [],
   "source": []
  }
 ],
 "metadata": {
  "kernelspec": {
   "display_name": "Python 3",
   "language": "python",
   "name": "python3"
  },
  "language_info": {
   "codemirror_mode": {
    "name": "ipython",
    "version": 3
   },
   "file_extension": ".py",
   "mimetype": "text/x-python",
   "name": "python",
   "nbconvert_exporter": "python",
   "pygments_lexer": "ipython3",
   "version": "3.7.3"
  }
 },
 "nbformat": 4,
 "nbformat_minor": 2
}
